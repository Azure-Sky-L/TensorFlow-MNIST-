{
 "cells": [
  {
   "cell_type": "markdown",
   "metadata": {},
   "source": [
    "# Sigmoid"
   ]
  },
  {
   "cell_type": "code",
   "execution_count": 6,
   "metadata": {},
   "outputs": [
    {
     "name": "stderr",
     "output_type": "stream",
     "text": [
      "/home/mzl/anaconda3/lib/python3.6/site-packages/h5py/__init__.py:36: FutureWarning: Conversion of the second argument of issubdtype from `float` to `np.floating` is deprecated. In future, it will be treated as `np.float64 == np.dtype(float).type`.\n",
      "  from ._conv import register_converters as _register_converters\n"
     ]
    },
    {
     "name": "stdout",
     "output_type": "stream",
     "text": [
      "[3. 8.]\n"
     ]
    }
   ],
   "source": [
    "import tensorflow as tf\n",
    "#\n",
    "\n",
    "a= tf.constant([1.0, 2.0])\n",
    "b= tf.constant([3.0, 4.0])\n",
    "c= a * b\n",
    "# 创建会话\n",
    "sess = tf.Session()\n",
    "# 计算 c\n",
    "print(sess.run(c)) #进行矩阵乘法,输出 [3., 8.]\n",
    "sess.close()"
   ]
  },
  {
   "cell_type": "code",
   "execution_count": 9,
   "metadata": {},
   "outputs": [
    {
     "name": "stdout",
     "output_type": "stream",
     "text": [
      "[array([[12.]], dtype=float32)]\n"
     ]
    }
   ],
   "source": [
    "# 创建一个常量运算操作,产生一个 1 × 2 矩阵\n",
    "matrix1 = tf.constant([[3., 3.]])\n",
    "# 创建另外一个常量运算操作,产生一个 2 × 1 矩阵\n",
    "matrix2 = tf.constant([[2.],[2.]])\n",
    "# 创建一个矩阵乘法运算 ,把 matrix1 和 matrix2 作为输入\n",
    "# 返回值 product 代表矩阵乘法的结果\n",
    "product = tf.matmul(matrix1, matrix2)\n",
    "with tf.Session() as sess:\n",
    "    result = sess.run([product])\n",
    "    print(result)"
   ]
  },
  {
   "cell_type": "code",
   "execution_count": 10,
   "metadata": {},
   "outputs": [],
   "source": [
    "# 创建一个变量,初始化为标量 0\n",
    "state = tf.Variable(0, name=\"counter\")"
   ]
  },
  {
   "cell_type": "code",
   "execution_count": 14,
   "metadata": {},
   "outputs": [
    {
     "name": "stdout",
     "output_type": "stream",
     "text": [
      "[array([14.], dtype=float32)]\n"
     ]
    }
   ],
   "source": [
    "input1 = tf.placeholder(tf.float32)\n",
    "input2 = tf.placeholder(tf.float32)\n",
    "output = tf.multiply(input1, input2)\n",
    "with tf.Session() as sess:\n",
    "    print(sess.run([output], feed_dict={input1:[7.], input2:[2.]}))\n",
    "# 输出 [array([ 14.], dtype=float32)]"
   ]
  },
  {
   "cell_type": "code",
   "execution_count": null,
   "metadata": {},
   "outputs": [],
   "source": []
  },
  {
   "cell_type": "code",
   "execution_count": null,
   "metadata": {},
   "outputs": [],
   "source": [
    "'''\n",
    "激活函数不会更改输入数据的维度,也就是输入和输出的维度是相同的。TensorFlow 中有\n",
    "如下激活函数,它们定义在 tensorflow-1.1.0/tensorflow/python/ops/nn.py 文件中,这里包括平滑\n",
    "非线性的激活函数,如 sigmoid、tanh、elu、softplus 和 softsign,也包括连续但不是处处可微的\n",
    "函数 relu、relu6、crelu 和 relu_x,以及随机正则化函数 dropout:\n",
    "tf.nn.relu()\n",
    "tf.nn.sigmoid()\n",
    "tf.nn.tanh()\n",
    "tf.nn.elu()\n",
    "tf.nn.bias _ add()\n",
    "tf.nn.crelu()\n",
    "tf.nn.relu6()\n",
    "tf.nn.softplus()\n",
    "tf.nn.softsign()\n",
    "tf.nn.dropout() # 防止过拟合,用来舍弃某些神经元\n",
    "'''"
   ]
  },
  {
   "cell_type": "code",
   "execution_count": 35,
   "metadata": {},
   "outputs": [
    {
     "name": "stdout",
     "output_type": "stream",
     "text": [
      "[[0.7310586 0.880797 ]\n",
      " [0.7310586 0.880797 ]\n",
      " [0.7310586 0.880797 ]]\n"
     ]
    }
   ],
   "source": [
    "with tf.Session() as sess:\n",
    "    a = tf.constant([[1.0, 2.0], [1.0, 2.0], [1.0, 2.0]])\n",
    "    sess = tf.Session()\n",
    "    print(sess.run(tf.sigmoid(a)))"
   ]
  },
  {
   "cell_type": "code",
   "execution_count": 40,
   "metadata": {},
   "outputs": [
    {
     "ename": "SyntaxError",
     "evalue": "invalid syntax (<ipython-input-40-b1230610d25c>, line 2)",
     "output_type": "error",
     "traceback": [
      "\u001b[0;36m  File \u001b[0;32m\"<ipython-input-40-b1230610d25c>\"\u001b[0;36m, line \u001b[0;32m2\u001b[0m\n\u001b[0;31m    data_format=None, name=None)\u001b[0m\n\u001b[0m                                ^\u001b[0m\n\u001b[0;31mSyntaxError\u001b[0m\u001b[0;31m:\u001b[0m invalid syntax\n"
     ]
    }
   ],
   "source": [
    "def conv2d(input, filter, strides, padding, use_cudnn_on_gpu=None,\n",
    "data_format=None, name=None)\n",
    "# 输入:\n",
    "#input :一个 Tensor 。数据类型必须是 float32 或者 float64\n",
    "#filter :一个 Tensor 。数据类型必须是 input 相同\n",
    "#strides :一个长度是 4 的一维整数类型数组,每一维度对应的是 input 中每一维的对应移动步数,\n",
    "#比如, strides[1] 对应 input[1] 的移动步数\n",
    "#padding :一个字符串,取值为 SAME 或者 VALID\n",
    "#padding='SAME' :仅适用于全尺寸操作,即输入数据维度和输出数据维度相同\n",
    "#padding='VALID :适用于部分窗口,即输入数据维度和输出数据维度不同\n",
    "#use _ cudnn _ on _ gpu :一个可选布尔值,默认情况下是 True\n",
    "#name :(可选)为这个操作取一个名字\n",
    "# 输出:一个 Tensor ,数据类型是 input 相同"
   ]
  },
  {
   "cell_type": "code",
   "execution_count": null,
   "metadata": {},
   "outputs": [],
   "source": []
  }
 ],
 "metadata": {
  "kernelspec": {
   "display_name": "Python 3",
   "language": "python",
   "name": "python3"
  },
  "language_info": {
   "codemirror_mode": {
    "name": "ipython",
    "version": 3
   },
   "file_extension": ".py",
   "mimetype": "text/x-python",
   "name": "python",
   "nbconvert_exporter": "python",
   "pygments_lexer": "ipython3",
   "version": "3.6.4"
  }
 },
 "nbformat": 4,
 "nbformat_minor": 2
}
