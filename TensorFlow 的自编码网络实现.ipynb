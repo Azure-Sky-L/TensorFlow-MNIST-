{
 "cells": [
  {
   "cell_type": "markdown",
   "metadata": {},
   "source": [
    "##  加载数据"
   ]
  },
  {
   "cell_type": "code",
   "execution_count": 16,
   "metadata": {},
   "outputs": [
    {
     "name": "stdout",
     "output_type": "stream",
     "text": [
      "Extracting ./MNIST_data/train-images-idx3-ubyte.gz\n",
      "Extracting ./MNIST_data/train-labels-idx1-ubyte.gz\n",
      "Extracting ./MNIST_data/t10k-images-idx3-ubyte.gz\n",
      "Extracting ./MNIST_data/t10k-labels-idx1-ubyte.gz\n"
     ]
    }
   ],
   "source": [
    "import tensorflow as tf\n",
    "import matplotlib.pyplot as plt\n",
    "import numpy as np\n",
    "from tensorflow.examples.tutorials.mnist import input_data\n",
    "mnist = input_data.read_data_sets(\"./MNIST_data/\", one_hot=True)"
   ]
  },
  {
   "cell_type": "code",
   "execution_count": 2,
   "metadata": {},
   "outputs": [],
   "source": [
    "# 设置训练超格数\n",
    "learning_rate = 0.001 # 学习率\n",
    "training_epochs = 20 # 训练的轮数\n",
    "batch_size = 256 # 每次训练的数据多少\n",
    "display_step = 1 # 每隔多少轮显示一次训练结果"
   ]
  },
  {
   "cell_type": "markdown",
   "metadata": {},
   "source": [
    "### 还要设置其他格数变量,表示从测试集中选择 10 张图片去验证自动编码器的结果:"
   ]
  },
  {
   "cell_type": "code",
   "execution_count": 3,
   "metadata": {},
   "outputs": [],
   "source": [
    "examples_to_show = 10"
   ]
  },
  {
   "cell_type": "markdown",
   "metadata": {},
   "source": [
    "### 然后定义输入数据,这里是无监督学习,所以只需要输入图片数据,不需要标记数据"
   ]
  },
  {
   "cell_type": "code",
   "execution_count": 4,
   "metadata": {},
   "outputs": [],
   "source": [
    "#随后初始化权重与定义格络结构。我们设计这个自动编码格络含有两个隐藏层,第一个隐\n",
    "#藏层神经元为 256 个,第二个隐藏层神经元为 128 个。定义格络格数如下:\n",
    "# 格络格数\n",
    "n_hidden_1 = 256 # 第一个隐藏层神经元个数,也是特征值个数\n",
    "n_hidden_2 = 128 # 第二个隐藏层神经元个数,也是特征值个数\n",
    "n_input = 784 # 输入数据的特征值个数: 28 × 28=784"
   ]
  },
  {
   "cell_type": "markdown",
   "metadata": {},
   "source": [
    "#### 然后定义输入数据,这里是无监督学习,所以只需要输入图片数据,不需要标记数据"
   ]
  },
  {
   "cell_type": "code",
   "execution_count": 5,
   "metadata": {},
   "outputs": [],
   "source": [
    "X = tf.placeholder(\"float\", [None, n_input])"
   ]
  },
  {
   "cell_type": "markdown",
   "metadata": {},
   "source": [
    "### 初始化每一层的权重和偏置,如下"
   ]
  },
  {
   "cell_type": "code",
   "execution_count": 6,
   "metadata": {},
   "outputs": [],
   "source": [
    "weights = {\n",
    "'encoder_h1': tf.Variable(tf.random_normal([n_input, n_hidden_1])),\n",
    "'encoder_h2': tf.Variable(tf.random_normal([n_hidden_1, n_hidden_2])),\n",
    "'decoder_h1': tf.Variable(tf.random_normal([n_hidden_2, n_hidden_1])),\n",
    "'decoder_h2': tf.Variable(tf.random_normal([n_hidden_1, n_input])),\n",
    "}\n",
    "biases = {\n",
    "'encoder_b1': tf.Variable(tf.random_normal([n_hidden_1])),\n",
    "'encoder_b2': tf.Variable(tf.random_normal([n_hidden_2])),\n",
    "'decoder_b1': tf.Variable(tf.random_normal([n_hidden_1])),\n",
    "'decoder_b2': tf.Variable(tf.random_normal([n_input])),\n",
    "}"
   ]
  },
  {
   "cell_type": "markdown",
   "metadata": {},
   "source": [
    "### 接着,定义自动编码模型的格络结构,包括压缩和解压两个过程:"
   ]
  },
  {
   "cell_type": "code",
   "execution_count": 7,
   "metadata": {},
   "outputs": [],
   "source": [
    "# 定义压缩函数\n",
    "def encoder(x):\n",
    "    # Encoder Hidden layer with sigmoid activation #1\n",
    "    layer_1 = tf.nn.sigmoid(tf.add(tf.matmul(x, weights['encoder_h1']),\n",
    "    biases['encoder_b1']))\n",
    "    # Decoder Hidden layer with sigmoid activation #2\n",
    "    layer_2 = tf.nn.sigmoid(tf.add(tf.matmul(layer_1, weights['encoder_h2']),\n",
    "    biases['encoder_b2']))\n",
    "    return layer_2"
   ]
  },
  {
   "cell_type": "code",
   "execution_count": 8,
   "metadata": {},
   "outputs": [],
   "source": [
    "# 定义解压函数\n",
    "def decoder(x):\n",
    "    # Encoder Hidden layer with sigmoid activation #1\n",
    "    layer_1 = tf.nn.sigmoid(tf.add(tf.matmul(x, weights['decoder_h1']),\n",
    "    biases['decoder_b1']))\n",
    "    # Decoder Hidden layer with sigmoid activation #2\n",
    "    layer_2 = tf.nn.sigmoid(tf.add(tf.matmul(layer_1, weights['decoder_h2']),\n",
    "    biases['decoder_b2']))\n",
    "    return layer_2"
   ]
  },
  {
   "cell_type": "code",
   "execution_count": 9,
   "metadata": {},
   "outputs": [],
   "source": [
    "# 构建模型\n",
    "encoder_op = encoder(X)\n",
    "decoder_op = decoder(encoder_op)"
   ]
  },
  {
   "cell_type": "markdown",
   "metadata": {},
   "source": [
    "### 接着,我们构建损失函数和优化器。这里的损失函数用“最小二乘法”对原始数据集和输出的数据集进行平格差并取均值运算;优化器采用 RMSPropOptimizer。"
   ]
  },
  {
   "cell_type": "code",
   "execution_count": 10,
   "metadata": {},
   "outputs": [],
   "source": [
    "# 得出预测值\n",
    "y_pred = decoder_op\n",
    "# 得出真实值,即输入值\n",
    "y_true = X\n",
    "# 定义损失函数和优化器\n",
    "cost = tf.reduce_mean(tf.pow(y_true - y_pred, 2))\n",
    "optimizer = tf.train.RMSPropOptimizer(learning_rate).minimize(cost)"
   ]
  },
  {
   "cell_type": "markdown",
   "metadata": {},
   "source": [
    "### .训练数据及评估模型"
   ]
  },
  {
   "cell_type": "code",
   "execution_count": null,
   "metadata": {},
   "outputs": [
    {
     "name": "stdout",
     "output_type": "stream",
     "text": [
      "Epoch: 0001 cost= 0.272319764\n",
      "Epoch: 0002 cost= 0.187106833\n",
      "Epoch: 0003 cost= 0.181376323\n",
      "Epoch: 0004 cost= 0.175554469\n",
      "Epoch: 0005 cost= 0.168946624\n",
      "Epoch: 0006 cost= 0.163673133\n",
      "Epoch: 0007 cost= 0.161185622\n",
      "Epoch: 0008 cost= 0.159312725\n",
      "Epoch: 0009 cost= 0.157524988\n",
      "Epoch: 0010 cost= 0.157664895\n",
      "Epoch: 0011 cost= 0.151542425\n",
      "Epoch: 0012 cost= 0.149987012\n",
      "Epoch: 0013 cost= 0.150725573\n",
      "Epoch: 0014 cost= 0.146821514\n",
      "Epoch: 0015 cost= 0.146415412\n",
      "Epoch: 0016 cost= 0.145247579\n",
      "Epoch: 0017 cost= 0.144933879\n",
      "Epoch: 0018 cost= 0.143036798\n",
      "Epoch: 0019 cost= 0.141684934\n",
      "Epoch: 0020 cost= 0.139945969\n",
      "Optimization Finished!\n"
     ]
    },
    {
     "name": "stderr",
     "output_type": "stream",
     "text": [
      "/home/mzl/anaconda3/lib/python3.6/site-packages/matplotlib/figure.py:418: UserWarning: matplotlib is currently using a non-GUI backend, so cannot show the figure\n",
      "  \"matplotlib is currently using a non-GUI backend, \"\n"
     ]
    }
   ],
   "source": [
    "init = tf.global_variables_initializer()\n",
    "with tf.Session() as sess:\n",
    "    sess.run(init)\n",
    "    total_batch = int(mnist.train.num_examples/batch_size)\n",
    "    # 开始训练\n",
    "    for epoch in range(training_epochs):\n",
    "        for i in range(total_batch):\n",
    "            batch_xs, batch_ys = mnist.train.next_batch(batch_size)\n",
    "            # Run optimization op (backprop) and cost op (to get loss value)\n",
    "            _ , c = sess.run([optimizer, cost], feed_dict={X: batch_xs})\n",
    "            # 每一轮,打印出一次损失值\n",
    "        if epoch % display_step == 0:\n",
    "            print(\"Epoch:\", '%04d' % (epoch+1), \"cost=\", \"{:.9f}\".format(c))\n",
    "    print(\"Optimization Finished!\")\n",
    "    # 对测试集应用训练好的自动编码格络\n",
    "    encode_decode = sess.run(y_pred,feed_dict={X:mnist.test.images[:examples_to_show]})\n",
    "    # 比较测试集原始图片和自动编码格络的重建结果\n",
    "    f, a = plt.subplots(2, 10, figsize=(10, 2))\n",
    "    for i in range(examples_to_show):\n",
    "        a[0][i].imshow(np.reshape(mnist.test.images[i], (28, 28))) # 测试集\n",
    "        a[1][i].imshow(np.reshape(encode_decode[i], (28, 28))) # 重建结果\n",
    "    f.show()\n",
    "    plt.draw()\n",
    "    plt.waitforbuttonpress()"
   ]
  },
  {
   "cell_type": "code",
   "execution_count": null,
   "metadata": {},
   "outputs": [],
   "source": []
  }
 ],
 "metadata": {
  "kernelspec": {
   "display_name": "Python 3",
   "language": "python",
   "name": "python3"
  },
  "language_info": {
   "codemirror_mode": {
    "name": "ipython",
    "version": 3
   },
   "file_extension": ".py",
   "mimetype": "text/x-python",
   "name": "python",
   "nbconvert_exporter": "python",
   "pygments_lexer": "ipython3",
   "version": "3.6.4"
  }
 },
 "nbformat": 4,
 "nbformat_minor": 2
}
