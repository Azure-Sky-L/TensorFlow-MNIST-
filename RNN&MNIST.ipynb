{
 "cells": [
  {
   "cell_type": "code",
   "execution_count": 1,
   "metadata": {},
   "outputs": [
    {
     "name": "stderr",
     "output_type": "stream",
     "text": [
      "/home/mzl/anaconda3/lib/python3.6/site-packages/h5py/__init__.py:36: FutureWarning: Conversion of the second argument of issubdtype from `float` to `np.floating` is deprecated. In future, it will be treated as `np.float64 == np.dtype(float).type`.\n",
      "  from ._conv import register_converters as _register_converters\n"
     ]
    },
    {
     "name": "stdout",
     "output_type": "stream",
     "text": [
      "Extracting ./MNIST_data/train-images-idx3-ubyte.gz\n",
      "Extracting ./MNIST_data/train-labels-idx1-ubyte.gz\n",
      "Extracting ./MNIST_data/t10k-images-idx3-ubyte.gz\n",
      "Extracting ./MNIST_data/t10k-labels-idx1-ubyte.gz\n"
     ]
    }
   ],
   "source": [
    "from tensorflow.examples.tutorials.mnist import input_data\n",
    "import tensorflow as tf\n",
    "mnist = input_data.read_data_sets('./MNIST_data', one_hot=True)"
   ]
  },
  {
   "cell_type": "markdown",
   "metadata": {},
   "source": [
    "# 构建模型"
   ]
  },
  {
   "cell_type": "markdown",
   "metadata": {},
   "source": [
    "## 设置训练的超格数,分别设置学习率、训练次数和每轮训练的数据大小:"
   ]
  },
  {
   "cell_type": "code",
   "execution_count": 2,
   "metadata": {},
   "outputs": [],
   "source": [
    "# 设置训练的超参数\n",
    "lr = 0.001\n",
    "training_iters = 100000\n",
    "batch_size = 64"
   ]
  },
  {
   "cell_type": "markdown",
   "metadata": {},
   "source": [
    "#### 为了使用 RNN 来分类图片,我们把每张图片的行看成是一个像素序列(sequence)。因为MNIST 图片的大小是 28×28 像素,所以我们把每一个图像样本看成一行行的序列。因此,共有(28 个元素的序列)×(28 行),然后每一步输入的序列长度是 28,输入的步数是 28 步。下面定义 RNN 的参数"
   ]
  },
  {
   "cell_type": "code",
   "execution_count": 3,
   "metadata": {},
   "outputs": [],
   "source": [
    "# 神经网络的参数\n",
    "n_input = 28 # 输入层的 n\n",
    "n_steps = 28 # 28 长度\n",
    "n_hidden_units = 128 # # 隐藏层的神经元个数\n",
    "n_classes = 10 # 输出的数量,即分类的类别, 0 ~ 9 个数字,共有 10 个"
   ]
  },
  {
   "cell_type": "markdown",
   "metadata": {},
   "source": [
    "### 定义输入数据及权重:"
   ]
  },
  {
   "cell_type": "code",
   "execution_count": 4,
   "metadata": {},
   "outputs": [],
   "source": [
    "# 输入数据占位符\n",
    "x = tf.placeholder(tf.float32,[None,n_steps,n_input])\n",
    "y = tf.placeholder(tf.float32,[None,n_classes])"
   ]
  },
  {
   "cell_type": "code",
   "execution_count": 5,
   "metadata": {},
   "outputs": [],
   "source": [
    "# 定义权重\n",
    "weights = {\n",
    "    # (28,128)\n",
    "    'in': tf.Variable(tf.random_normal([n_input,n_hidden_units])),\n",
    "    # (128,10)\n",
    "    'out': tf.Variable(tf.random_normal([n_hidden_units,n_classes]))\n",
    "}\n",
    "\n",
    "biases = {\n",
    "    # (128,)\n",
    "    'in': tf.Variable(tf.constant(0.1,shape=[n_hidden_units,])),\n",
    "    # (10,)\n",
    "    'out':tf.Variable(tf.constant(0.1,shape=[n_classes,]))\n",
    "}"
   ]
  },
  {
   "cell_type": "markdown",
   "metadata": {},
   "source": [
    "## 定义 RNN 模型"
   ]
  },
  {
   "cell_type": "code",
   "execution_count": 8,
   "metadata": {},
   "outputs": [],
   "source": [
    "def RNN(X, weights, biases):\n",
    "    # 把输入的 X 转换成 X ==> (128 batch * 28 steps, 28 inputs)\n",
    "    X = tf.reshape(X, [-1, n_input])\n",
    "    # 进入隐藏层\n",
    "    # X_in = (128 batch * 28 steps, 128 hidden)\n",
    "    X_in = tf.matmul(X, weights['in']) + biases['in']\n",
    "    # X_in ==> (128 batch, 28 steps, 128 hidden)\n",
    "    X_in = tf.reshape(X_in, [-1, n_steps, n_hidden_units])\n",
    "    # 这里采用基本的 LSTM 循环网络单元: basic LSTM Cell\n",
    "    lstm_cell = tf.contrib.rnn.BasicLSTMCell(n_hidden_units, forget_bias=1.0,\n",
    "                            state_is_tuple=True)\n",
    "    # 初始化为零值, lstm 单元由两个部分组成: (c_state, h_state)\n",
    "    init_state = lstm_cell.zero_state(batch_size, dtype=tf.float32)\n",
    "    # dynamic_rnn 接收张量 (batch, steps, inputs) 或者 (steps, batch, inputs) 作为 X _ in\n",
    "    outputs, final_state = tf.nn.dynamic_rnn(lstm_cell, X_in, initial_state=\n",
    "                                            init_state, time_major=False)\n",
    "    results = tf.matmul(final_state[1], weights['out']) + biases['out']\n",
    "    return results"
   ]
  },
  {
   "cell_type": "markdown",
   "metadata": {},
   "source": [
    "## 定义损失函数和优化器,优化器采用 AdamOptimizer"
   ]
  },
  {
   "cell_type": "code",
   "execution_count": 9,
   "metadata": {},
   "outputs": [],
   "source": [
    "pred = RNN(x, weights, biases)\n",
    "cost = tf.reduce_mean(tf.nn.softmax_cross_entropy_with_logits(logits=pred, labels=y))\n",
    "train_op = tf.train.AdamOptimizer(lr).minimize(cost)"
   ]
  },
  {
   "cell_type": "markdown",
   "metadata": {},
   "source": [
    "## 定义模型预测结果及准确率计算方法:"
   ]
  },
  {
   "cell_type": "code",
   "execution_count": 10,
   "metadata": {},
   "outputs": [],
   "source": [
    "correct_pred = tf.equal(tf.argmax(pred,1),tf.argmax(y,1))\n",
    "accuracy = tf.reduce_mean(tf.cast(correct_pred,tf.float32))"
   ]
  },
  {
   "cell_type": "markdown",
   "metadata": {},
   "source": [
    "## 训练数据及评估模型\n",
    "#### 在一个会话中启动图,开始训练,每 20 次输出 1 次准确率的大小:"
   ]
  },
  {
   "cell_type": "code",
   "execution_count": 11,
   "metadata": {},
   "outputs": [
    {
     "name": "stdout",
     "output_type": "stream",
     "text": [
      "0.203125\n",
      "0.625\n",
      "0.828125\n",
      "0.78125\n",
      "0.859375\n",
      "0.875\n",
      "0.859375\n",
      "0.875\n",
      "0.796875\n",
      "0.84375\n",
      "0.90625\n",
      "0.96875\n",
      "0.859375\n",
      "0.859375\n",
      "0.890625\n",
      "0.953125\n",
      "0.9375\n",
      "0.953125\n",
      "0.9375\n",
      "0.953125\n",
      "0.953125\n",
      "0.953125\n",
      "0.875\n",
      "0.953125\n",
      "0.953125\n",
      "0.9375\n",
      "0.921875\n",
      "0.953125\n",
      "0.921875\n",
      "0.984375\n",
      "0.9375\n",
      "0.921875\n",
      "0.890625\n",
      "0.921875\n",
      "0.984375\n",
      "0.9375\n",
      "0.953125\n",
      "0.921875\n",
      "1.0\n",
      "0.984375\n",
      "0.9375\n",
      "0.96875\n",
      "0.953125\n",
      "0.984375\n",
      "0.953125\n",
      "0.984375\n",
      "0.96875\n",
      "0.921875\n",
      "0.96875\n",
      "0.953125\n",
      "0.859375\n",
      "0.96875\n",
      "1.0\n",
      "0.921875\n",
      "1.0\n",
      "0.984375\n",
      "0.984375\n",
      "1.0\n",
      "0.96875\n",
      "0.90625\n",
      "0.984375\n",
      "1.0\n",
      "0.953125\n",
      "0.953125\n",
      "0.96875\n",
      "0.953125\n",
      "0.921875\n",
      "0.953125\n",
      "0.96875\n",
      "0.96875\n",
      "1.0\n",
      "1.0\n",
      "0.9375\n",
      "1.0\n",
      "0.984375\n",
      "0.984375\n",
      "0.96875\n",
      "0.984375\n",
      "1.0\n"
     ]
    }
   ],
   "source": [
    "with tf.Session() as sess:\n",
    "    sess.run(tf.global_variables_initializer())\n",
    "    step = 0\n",
    "    while step * batch_size < training_iters:\n",
    "        batch_xs,batch_ys = mnist.train.next_batch(batch_size)\n",
    "        batch_xs = batch_xs.reshape([batch_size,n_steps,n_input])\n",
    "        sess.run([train_op],feed_dict={\n",
    "            x:batch_xs,\n",
    "            y:batch_ys,\n",
    "        })\n",
    "        if step % 20 == 0:\n",
    "            print(sess.run(accuracy, feed_dict={\n",
    "                x: batch_xs,\n",
    "                y: batch_ys,\n",
    "            }))\n",
    "        step += 1"
   ]
  },
  {
   "cell_type": "code",
   "execution_count": null,
   "metadata": {},
   "outputs": [],
   "source": []
  }
 ],
 "metadata": {
  "kernelspec": {
   "display_name": "Python 3",
   "language": "python",
   "name": "python3"
  },
  "language_info": {
   "codemirror_mode": {
    "name": "ipython",
    "version": 3
   },
   "file_extension": ".py",
   "mimetype": "text/x-python",
   "name": "python",
   "nbconvert_exporter": "python",
   "pygments_lexer": "ipython3",
   "version": "3.6.4"
  }
 },
 "nbformat": 4,
 "nbformat_minor": 2
}
