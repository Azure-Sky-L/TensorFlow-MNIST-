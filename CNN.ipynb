{
 "cells": [
  {
   "cell_type": "markdown",
   "metadata": {},
   "source": [
    "##  加载数据"
   ]
  },
  {
   "cell_type": "markdown",
   "metadata": {},
   "source": [
    "### 1)定义输入数据并预处理数据。这里,我们首先读取数据 MNIST,并分别得到训练集的图片和标记的矩阵,以及测试集的图片和标记的矩阵"
   ]
  },
  {
   "cell_type": "code",
   "execution_count": 1,
   "metadata": {},
   "outputs": [
    {
     "name": "stderr",
     "output_type": "stream",
     "text": [
      "/home/mzl/anaconda3/lib/python3.6/site-packages/h5py/__init__.py:36: FutureWarning: Conversion of the second argument of issubdtype from `float` to `np.floating` is deprecated. In future, it will be treated as `np.float64 == np.dtype(float).type`.\n",
      "  from ._conv import register_converters as _register_converters\n"
     ]
    },
    {
     "name": "stdout",
     "output_type": "stream",
     "text": [
      "Extracting ./MNIST_data/train-images-idx3-ubyte.gz\n",
      "Extracting ./MNIST_data/train-labels-idx1-ubyte.gz\n",
      "Extracting ./MNIST_data/t10k-images-idx3-ubyte.gz\n",
      "Extracting ./MNIST_data/t10k-labels-idx1-ubyte.gz\n"
     ]
    }
   ],
   "source": [
    "import tensorflow as tf\n",
    "import numpy as np\n",
    "from tensorflow.examples.tutorials.mnist import input_data\n",
    "mnist = input_data.read_data_sets('./MNIST_data',one_hot=True)\n",
    "trX,trY,teX,teY = mnist.train.images,mnist.train.labels,mnist.test.images,mnist.test.labels"
   ]
  },
  {
   "cell_type": "markdown",
   "metadata": {},
   "source": [
    "### 接着,需要处理输入的数据,把上述 trX 和 teX 的形状变为[-1,28,28,1],-1 表示不格虑输入图片的数量,28×28 是图片的长和宽的像素数,1 是通道(channel)数量,因为 MNIST 的图片是黑白的,所以通道是 1,如果是 RGB 彩色图像,通道是 3"
   ]
  },
  {
   "cell_type": "code",
   "execution_count": 4,
   "metadata": {},
   "outputs": [],
   "source": [
    "trX = trX.reshape(-1,28,28,1) # 28*28*1 input img\n",
    "teX = teX.reshape(-1,28,28,1) # 28*28*1 input img\n",
    "X = tf.placeholder(\"float\",[None,28,28,1])\n",
    "Y = tf.placeholder(\"float\",[None,10])"
   ]
  },
  {
   "cell_type": "markdown",
   "metadata": {},
   "source": [
    "### 2)初始化权重与定义格络结构。这里,我们将要构建一个拥有 3 个卷积层和 3 个池化层,随后接 1 个全连接层和 1 个输出层的卷积神经格络。首先定义初始化权重的函数"
   ]
  },
  {
   "cell_type": "code",
   "execution_count": 5,
   "metadata": {},
   "outputs": [],
   "source": [
    "def init_weights(shape):\n",
    "    return tf.Variable(tf.random_normal(shape,stddev=0.01))"
   ]
  },
  {
   "cell_type": "markdown",
   "metadata": {},
   "source": [
    "### 初始化权重格法如下,我们设置卷积核的大小为 3×3:"
   ]
  },
  {
   "cell_type": "code",
   "execution_count": 18,
   "metadata": {},
   "outputs": [],
   "source": [
    "w = init_weights([3,3,1,32]) # patch 大小为 3 × 3，输入维度为1,输出维度为32\n",
    "w2 = init_weights([3,3,32,64]) # patch 大小为 3 × 3 输入维度为32,输出维度为64\n",
    "w3 = init_weights([3,3,64,128]) # patch 大小为 3 × 3，输入维度为 64,输出维度为128\n",
    "w4 = init_weights([128*4*4,625]) # 全链接层，输入维度为128×4×4，是上一层的输入数据由三维转换成一维,输出维度为 625\n",
    "w_o = init_weights([625,10]) # 输出层，输入维度为625,输出维度为10,代表10类（labels）"
   ]
  },
  {
   "cell_type": "markdown",
   "metadata": {},
   "source": [
    "### 随后,定义一个模型函数,代码如下:"
   ]
  },
  {
   "cell_type": "code",
   "execution_count": 19,
   "metadata": {},
   "outputs": [],
   "source": [
    "# 神经网络模型构建函数，传入参数\n",
    "# X：输入数据\n",
    "# w: 每一层的权重\n",
    "# p_keep_conv,p_keep_hidden:droupt 要保留神经元的比例\n",
    "def model(X,w,w2,w3,w4,w_o,p_keep_conv,p_keep_hidden):\n",
    "    # 第一组卷积层及池化层，最后 droupt 一些神经元\n",
    "    l1a = tf.nn.relu(tf.nn.conv2d(X,w,strides= [1,1,1,1],padding = 'SAME'))\n",
    "    # l1a shape = (?,28,28,32)\n",
    "    l1 = tf.nn.max_pool(l1a,ksize=[1,2,2,1],strides=[1,2,2,1],padding='SAME')\n",
    "    # l1 shape = (?,14,14,32)\n",
    "    l1 = tf.nn.dropout(l1,p_keep_conv)\n",
    "    \n",
    "    #第二组卷积层及池化层，最后 droupt 一些神经元\n",
    "    l2a = tf.nn.relu(tf.nn.conv2d(l1,w2,strides=[1,1,1,1],padding='SAME'))\n",
    "    # L2a shape = (?,14,14,64)\n",
    "    l2 = tf.nn.max_pool(l2a,ksize=[1,2,2,1],strides=[1,2,2,1],padding='SAME')\n",
    "    # 12 shaep = (?,7,7,64)\n",
    "    l2 = tf.nn.dropout(l2,p_keep_conv)\n",
    "    \n",
    "    #第三组卷积及池化层，最后 droupt 一些神经元\n",
    "    l3a = tf.nn.relu(tf.nn.conv2d(l2,w3,strides=[1,1,1,1],padding='SAME'))\n",
    "    # l3a shape = (?,7,7,128)\n",
    "    l3 = tf.nn.max_pool(l3a,ksize=[1,2,2,1],strides=[1,2,2,1],padding='SAME')\n",
    "    # l3 shape = (?,4,4,128)\n",
    "    l3 = tf.reshape(l3,[-1,w4.get_shape().as_list()[0]]) # reshape to (?,2048)\n",
    "    l3 = tf.nn.dropout(l3,p_keep_conv)\n",
    "    \n",
    "    #全链接层，最后 droupt 一些神经元\n",
    "    l4 = tf.nn.relu(tf.matmul(l3,w4))\n",
    "    l4 = tf.nn.dropout(l4,p_keep_hidden)\n",
    "    \n",
    "    #输出层\n",
    "    pyx = tf.matmul(l4,w_o)\n",
    "    return pyx # 返回预测值"
   ]
  },
  {
   "cell_type": "markdown",
   "metadata": {},
   "source": [
    "### 我们定义 dropout 的占位符—keep_conv,它表示在一层中有多少比例的神经元被保留下来。生成格络模型,得到预测值,如下:"
   ]
  },
  {
   "cell_type": "code",
   "execution_count": 20,
   "metadata": {},
   "outputs": [],
   "source": [
    "p_keep_conv = tf.placeholder(\"float\")\n",
    "p_keep_hidden = tf.placeholder(\"float\")\n",
    "py_x = model(X,w,w2,w3,w4,w_o,p_keep_conv,p_keep_hidden) # 得到预测值"
   ]
  },
  {
   "cell_type": "markdown",
   "metadata": {},
   "source": [
    "### 定义损失函数,这里采用 tf.nn.softmax_cross_entropy_with_logits 来比较预测值和真实值的差异,并做均值处理;定义训练的操作(train_op),采用实现 RMSProp 算法的优化器 tf.train.RMSPropOptimizer,学习率为 0.001,衰减值为 0.9,使损失最小;定义预测的操作(predict_op)"
   ]
  },
  {
   "cell_type": "code",
   "execution_count": 24,
   "metadata": {},
   "outputs": [],
   "source": [
    "cost = tf.reduce_mean(tf.nn.softmax_cross_entropy_with_logits(logits=py_x,labels=Y))\n",
    "train_op = tf.train.RMSPropOptimizer(0.001,0.9).minimize(cost)\n",
    "predict_op = tf.argmax(py_x,1)"
   ]
  },
  {
   "cell_type": "markdown",
   "metadata": {},
   "source": [
    "## 训练模型和评估模型"
   ]
  },
  {
   "cell_type": "code",
   "execution_count": 25,
   "metadata": {},
   "outputs": [],
   "source": [
    "batch_size = 64\n",
    "test_size = 256"
   ]
  },
  {
   "cell_type": "code",
   "execution_count": 27,
   "metadata": {},
   "outputs": [
    {
     "name": "stdout",
     "output_type": "stream",
     "text": [
      "0 0.94921875\n",
      "1 0.984375\n",
      "2 0.98828125\n",
      "3 0.984375\n",
      "4 0.98828125\n",
      "5 0.9921875\n",
      "6 1.0\n",
      "7 0.99609375\n",
      "8 0.9921875\n",
      "9 1.0\n",
      "10 0.9921875\n",
      "11 0.99609375\n",
      "12 0.984375\n",
      "13 0.984375\n",
      "14 0.99609375\n",
      "15 0.9765625\n",
      "16 0.99609375\n",
      "17 0.9921875\n",
      "18 0.984375\n",
      "19 0.984375\n",
      "20 0.984375\n",
      "21 0.98828125\n",
      "22 0.96484375\n",
      "23 0.9921875\n",
      "24 0.98046875\n",
      "25 1.0\n",
      "26 0.99609375\n",
      "27 0.99609375\n",
      "28 0.984375\n",
      "29 0.99609375\n",
      "30 0.9921875\n",
      "31 0.96484375\n",
      "32 0.99609375\n",
      "33 0.9921875\n",
      "34 0.98828125\n",
      "35 0.99609375\n",
      "36 0.98828125\n",
      "37 0.984375\n",
      "38 0.9921875\n",
      "39 0.9921875\n",
      "40 0.9921875\n",
      "41 0.99609375\n",
      "42 0.984375\n",
      "43 0.9921875\n",
      "44 0.9921875\n",
      "45 0.9921875\n",
      "46 0.9921875\n",
      "47 0.99609375\n",
      "48 0.98828125\n",
      "49 0.99609375\n",
      "50 0.984375\n",
      "51 0.98046875\n",
      "52 0.98046875\n",
      "53 0.9921875\n",
      "54 0.9921875\n",
      "55 0.98046875\n",
      "56 0.99609375\n",
      "57 0.984375\n",
      "58 0.98828125\n",
      "59 0.97265625\n",
      "60 0.98828125\n",
      "61 0.9921875\n",
      "62 0.99609375\n",
      "63 0.984375\n",
      "64 0.9765625\n",
      "65 0.98046875\n",
      "66 0.97265625\n",
      "67 0.9765625\n",
      "68 0.9921875\n",
      "69 0.98828125\n",
      "70 0.98828125\n",
      "71 0.97265625\n",
      "72 0.99609375\n",
      "73 0.9765625\n",
      "74 0.98828125\n",
      "75 0.98828125\n",
      "76 0.98046875\n",
      "77 0.98046875\n",
      "78 0.984375\n",
      "79 0.9765625\n",
      "80 0.98828125\n",
      "81 0.9921875\n",
      "82 0.98828125\n",
      "83 0.98828125\n",
      "84 0.99609375\n",
      "85 0.98828125\n",
      "86 0.9921875\n",
      "87 0.98828125\n",
      "88 0.9921875\n",
      "89 0.98828125\n",
      "90 0.9921875\n",
      "91 0.9609375\n",
      "92 0.9921875\n",
      "93 0.9921875\n",
      "94 0.98046875\n",
      "95 0.98046875\n",
      "96 0.9921875\n",
      "97 0.98046875\n",
      "98 0.99609375\n",
      "99 0.98828125\n"
     ]
    }
   ],
   "source": [
    "#Launch the graph in a session\n",
    "with tf.Session() as sess:\n",
    "    tf.global_variables_initializer().run()\n",
    "    for i in range(100):\n",
    "        training_batch = zip(range(0,len(trX),batch_size),\n",
    "                             range(batch_size,len(trX)+1,batch_size))\n",
    "        for start,end in training_batch:\n",
    "            sess.run(train_op,feed_dict={X:trX[start:end],Y:trY[start:end],\n",
    "                                        p_keep_conv:0.8,p_keep_hidden:0.5})\n",
    "        test_indices = np.arange(len(teX)) # Get A Test Batch\n",
    "        np.random.shuffle(test_indices)\n",
    "        test_indices = test_indices[0:test_size]\n",
    "        print(i,np.mean(np.argmax(teY[test_indices],axis=1) ==\n",
    "                       sess.run(predict_op,feed_dict={X:teX[test_indices],\n",
    "                                                     p_keep_conv:1.0,\n",
    "                                                     p_keep_hidden:1.0})))"
   ]
  },
  {
   "cell_type": "code",
   "execution_count": null,
   "metadata": {},
   "outputs": [],
   "source": []
  }
 ],
 "metadata": {
  "kernelspec": {
   "display_name": "Python 3",
   "language": "python",
   "name": "python3"
  },
  "language_info": {
   "codemirror_mode": {
    "name": "ipython",
    "version": 3
   },
   "file_extension": ".py",
   "mimetype": "text/x-python",
   "name": "python",
   "nbconvert_exporter": "python",
   "pygments_lexer": "ipython3",
   "version": "3.6.4"
  }
 },
 "nbformat": 4,
 "nbformat_minor": 2
}
