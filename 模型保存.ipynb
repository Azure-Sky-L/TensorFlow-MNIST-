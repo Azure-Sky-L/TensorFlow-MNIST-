{
 "cells": [
  {
   "cell_type": "code",
   "execution_count": 9,
   "metadata": {},
   "outputs": [
    {
     "name": "stdout",
     "output_type": "stream",
     "text": [
      "Extracting MNIST_data/train-images-idx3-ubyte.gz\n",
      "Extracting MNIST_data/train-labels-idx1-ubyte.gz\n",
      "Extracting MNIST_data/t10k-images-idx3-ubyte.gz\n",
      "Extracting MNIST_data/t10k-labels-idx1-ubyte.gz\n"
     ]
    }
   ],
   "source": [
    "import tensorflow as tf\n",
    "import numpy as np\n",
    "import matplotlib.pyplot as plt\n",
    "from tensorflow.examples.tutorials.mnist import input_data\n",
    "# 加载数据\n",
    "mnist = input_data.read_data_sets(\"MNIST_data/\", one_hot=True)\n",
    "trX, trY, teX, teY = mnist.train.images, mnist.train.labels, mnist.test.images,mnist.test.labels\n",
    "X = tf.placeholder(\"float\", [None, 784])\n",
    "Y = tf.placeholder(\"float\", [None, 10])\n",
    "# 定义权重函数\n",
    "def init_weights(shape):\n",
    "    return tf.Variable(tf.random_normal(shape, stddev=0.01))\n",
    "# 初始化权重参数\n",
    "w_h = init_weights([784, 625])\n",
    "w_h2 = init_weights([625, 625])\n",
    "w_o = init_weights([625, 10])"
   ]
  },
  {
   "cell_type": "code",
   "execution_count": 11,
   "metadata": {},
   "outputs": [],
   "source": [
    "# 定义模型\n",
    "def model(X, w_h, w_h2, w_o, p_keep_input, p_keep_hidden):\n",
    "# 第一个全连接层\n",
    "    X = tf.nn.dropout(X, p_keep_input)\n",
    "    h = tf.nn.relu(tf.matmul(X, w_h))\n",
    "    h = tf.nn.dropout(h, p_keep_hidden)\n",
    "        # 第二个全连接层\n",
    "    h2 = tf.nn.relu(tf.matmul(h, w_h2))\n",
    "    h2 = tf.nn.dropout(h2, p_keep_hidden)\n",
    "    return tf.matmul(h2, w_o) # 输出预测值"
   ]
  },
  {
   "cell_type": "code",
   "execution_count": 14,
   "metadata": {},
   "outputs": [],
   "source": [
    "#生成网络模型,得到预测值,代码如下:\n",
    "p_keep_input = tf.placeholder(\"float\")\n",
    "p_keep_hidden = tf.placeholder(\"float\")\n",
    "py_x = model(X, w_h, w_h2, w_o, p_keep_input, p_keep_hidden)"
   ]
  },
  {
   "cell_type": "code",
   "execution_count": 19,
   "metadata": {},
   "outputs": [
    {
     "name": "stdout",
     "output_type": "stream",
     "text": [
      "0.3\n",
      "1.1\n",
      "1.2\n"
     ]
    }
   ],
   "source": [
    "import tensorflow as tf\n",
    "# 创建一个先入先出队列 , 初始化队列插入 0.1 、 0.2 、 0.3 三个数字\n",
    "q = tf.FIFOQueue(3, \"float\")\n",
    "init = q.enqueue_many(([0.1, 0.2, 0.3],))\n",
    "# 定义出队、 +1 、入队操作\n",
    "x = q.dequeue()\n",
    "y = x + 1\n",
    "q_inc = q.enqueue([y])\n",
    "#然后开启一个会话,执行 2 次 q_inc 操作,随后查看队列的内容:\n",
    "with tf.Session() as sess:\n",
    "    sess.run(init)\n",
    "    quelen = sess.run(q.size())\n",
    "    for i in range(2):\n",
    "        sess.run(q_inc) # 执行 2 次操作,队列中的值变为 0.3,1.1,1.2\n",
    "        quelen = sess.run(q.size())\n",
    "    for i in range(quelen):\n",
    "        print (sess.run(q.dequeue())) # 输出队列的值"
   ]
  },
  {
   "cell_type": "code",
   "execution_count": 24,
   "metadata": {},
   "outputs": [
    {
     "name": "stdout",
     "output_type": "stream",
     "text": [
      "7.0\n",
      "2.0\n",
      "1.0\n",
      "8.0\n",
      "4.0\n",
      "9.0\n",
      "3.0\n",
      "5.0\n"
     ]
    }
   ],
   "source": [
    "#RandomShuffleQueue 创建一个随机队列,在出队列时,是以随机的顺序产生元素的。\n",
    "q = tf.RandomShuffleQueue(capacity=10, min_after_dequeue=2, dtypes=\"float\")\n",
    "sess = tf.Session()\n",
    "for i in range(0, 10): #12 次入队\n",
    "    sess.run(q.enqueue(i))\n",
    "for i in range(0, 8): # 8 次出队\n",
    "    print(sess.run(q.dequeue()))"
   ]
  },
  {
   "cell_type": "code",
   "execution_count": 25,
   "metadata": {},
   "outputs": [],
   "source": [
    "#预加载数据\n",
    "x1 = tf.constant([2, 3, 4])\n",
    "x2 = tf.constant([4, 0, 1])\n",
    "y = tf.add(x1, x2)"
   ]
  },
  {
   "cell_type": "code",
   "execution_count": 29,
   "metadata": {},
   "outputs": [
    {
     "name": "stdout",
     "output_type": "stream",
     "text": [
      "[6 3 5]\n"
     ]
    }
   ],
   "source": [
    "#填充数据\n",
    "#使用 sess.run()中的 feed_dict 参数,将 Python 产生的数据填充给后端。\n",
    "import tensorflow as tf\n",
    "# 设计图\n",
    "a1 = tf.placeholder(tf.int16)\n",
    "a2 = tf.placeholder(tf.int16)\n",
    "b = tf.add(x1, x2)\n",
    "# 用 Python 产生数据\n",
    "li1 = [2, 3, 4]\n",
    "li2 = [4, 0, 1]\n",
    "# 打开一个会话,将数据填充给后端\n",
    "with tf.Session() as sess:\n",
    "    print (sess.run(b, feed_dict={a1: li1, a2: li2}))"
   ]
  },
  {
   "cell_type": "code",
   "execution_count": null,
   "metadata": {},
   "outputs": [],
   "source": [
    "#"
   ]
  }
 ],
 "metadata": {
  "kernelspec": {
   "display_name": "Python 3",
   "language": "python",
   "name": "python3"
  },
  "language_info": {
   "codemirror_mode": {
    "name": "ipython",
    "version": 3
   },
   "file_extension": ".py",
   "mimetype": "text/x-python",
   "name": "python",
   "nbconvert_exporter": "python",
   "pygments_lexer": "ipython3",
   "version": "3.6.4"
  }
 },
 "nbformat": 4,
 "nbformat_minor": 2
}
